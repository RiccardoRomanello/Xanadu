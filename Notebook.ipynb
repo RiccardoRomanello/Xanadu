{
 "cells": [
  {
   "cell_type": "markdown",
   "id": "9301ea14",
   "metadata": {},
   "source": [
    "# Riccardo Romanello\n",
    "\n",
    "Please, do not be too harsh with me for this notebook.\n",
    "Have been a couple of hard weeks. \n",
    "\n",
    "However, I prepared this simple test. (also provided requirements.txt file) \n",
    "\n",
    "First, the import."
   ]
  },
  {
   "cell_type": "code",
   "execution_count": 17,
   "id": "918dd4ec",
   "metadata": {},
   "outputs": [],
   "source": [
    "import pennylane as qml\n",
    "from transform.routing_transform import apply_routing\n",
    "import networkx as nx"
   ]
  },
  {
   "cell_type": "markdown",
   "id": "1e5cee7b",
   "metadata": {},
   "source": [
    "Now that the import have been resolved, we move to the actual code. \n",
    "First, we declare the topology. \n",
    "\n",
    "As written in the readme, I assume it to be with $n$ nodes, with names from $0$ to $n-1$. Moreover, the graph must be connected. It is interpreted as non-oriented (undirected)."
   ]
  },
  {
   "cell_type": "code",
   "execution_count": 18,
   "id": "1ab67dda",
   "metadata": {},
   "outputs": [],
   "source": [
    "connectivity = {\n",
    "    0 : {1},\n",
    "    1 : {0, 2},\n",
    "    2 : {1, 3},\n",
    "    3 : {2}\n",
    "}\n",
    "\n",
    "# a simple line of 4 nodes"
   ]
  },
  {
   "cell_type": "markdown",
   "id": "273b50cb",
   "metadata": {},
   "source": [
    "Now, a simple circuit to test the efficiency and correctness of my method. "
   ]
  },
  {
   "cell_type": "code",
   "execution_count": 19,
   "id": "668620b7",
   "metadata": {},
   "outputs": [],
   "source": [
    "dev = qml.device(\"default.qubit\", wires=6)\n",
    "\n",
    "@qml.qnode(dev)\n",
    "def circuit():\n",
    "    qml.PauliX(wires=0)\n",
    "    qml.CNOT(wires=[0, 1])\n",
    "    qml.PauliX(wires=0)\n",
    "    return qml.state()\n"
   ]
  },
  {
   "cell_type": "markdown",
   "id": "792311ea",
   "metadata": {},
   "source": [
    "We print the circuit before compiling it. "
   ]
  },
  {
   "cell_type": "code",
   "execution_count": 20,
   "id": "6288db7a",
   "metadata": {},
   "outputs": [
    {
     "name": "stdout",
     "output_type": "stream",
     "text": [
      "Circuit before compilation\n",
      "0: ──X─╭●──X─┤  State\n",
      "1: ────╰X────┤  State\n"
     ]
    }
   ],
   "source": [
    "print(\"Circuit before compilation\")\n",
    "print(qml.draw(circuit)())"
   ]
  },
  {
   "cell_type": "markdown",
   "id": "0ee33ca6",
   "metadata": {},
   "source": [
    "Now, it's routing time. \n",
    "First, we execute the circuit so that we can retrieve the _tape property. \n",
    "We provide to the method apply_routing the connectivity and the mapping strategy as well. \n",
    "If you want to change strategy, use \"majority\" for the majority mapping or \"max_pairs\" for the maximum interacting pairs.\n",
    "\n",
    "With the random strategy, you can execute the following box and keep finding different results. \n",
    "Usually I get only a single swap. It suffices to create a bigger topology graph to create more swaps. \n",
    "\n",
    "Subsequently, we create a new circuit and print it."
   ]
  },
  {
   "cell_type": "code",
   "execution_count": 30,
   "id": "f260006b",
   "metadata": {},
   "outputs": [
    {
     "name": "stdout",
     "output_type": "stream",
     "text": [
      "Circuit after compilation\n",
      "0: ──X─╭SWAP─────────────┤  State\n",
      "1: ────│─────╭SWAP───────┤  State\n",
      "2: ────╰SWAP─│─────╭●──X─┤  State\n",
      "3: ──────────╰SWAP─╰X────┤  State\n"
     ]
    }
   ],
   "source": [
    "circuit()\n",
    "compiled, measurements, qubits = apply_routing(circuit._tape, nx.Graph(connectivity), \"random\")\n",
    "# compiled, measurements, qubits = apply_routing(circuit._tape, nx.Graph(connectivity), \"majority\")\n",
    "# compiled, measurements, qubits = apply_routing(circuit._tape, nx.Graph(connectivity), \"max_pairs\")\n",
    "\n",
    "second_device = qml.device(\"default.qubit\", wires=qubits)\n",
    "@qml.qnode(second_device)\n",
    "def new_circuit():\n",
    "    for op in compiled:\n",
    "        qml.apply(op)\n",
    "    return qml.state()\n",
    "\n",
    "print(\"Circuit after compilation\")\n",
    "print(qml.draw(new_circuit)())"
   ]
  }
 ],
 "metadata": {
  "kernelspec": {
   "display_name": "xanadu",
   "language": "python",
   "name": "python3"
  },
  "language_info": {
   "codemirror_mode": {
    "name": "ipython",
    "version": 3
   },
   "file_extension": ".py",
   "mimetype": "text/x-python",
   "name": "python",
   "nbconvert_exporter": "python",
   "pygments_lexer": "ipython3",
   "version": "3.10.14"
  }
 },
 "nbformat": 4,
 "nbformat_minor": 5
}
